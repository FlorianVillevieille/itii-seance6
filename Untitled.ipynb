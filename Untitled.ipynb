{
 "cells": [
  {
   "cell_type": "code",
   "execution_count": 6,
   "metadata": {},
   "outputs": [
    {
     "name": "stdout",
     "output_type": "stream",
     "text": [
      "7.501500076001311e+22\n"
     ]
    }
   ],
   "source": [
    "#Exercice 1 :\n",
    "\n",
    "def integrale(f, a, b, n):\n",
    "    \n",
    "    integrale = 0\n",
    "    k=a;\n",
    "    while(k < b):\n",
    "        largeur = (b-a)/n\n",
    "        hauteur = f(a + k*(b-a)/n)\n",
    "        aire = largeur * hauteur\n",
    "        integrale += aire\n",
    "        k+=n\n",
    " \n",
    "    return integrale\n",
    "\n",
    "f = lambda x : 3*x**3 + 2*x - 1\n",
    "print(integrale(f,0,10,0.001))"
   ]
  },
  {
   "cell_type": "code",
   "execution_count": 5,
   "metadata": {},
   "outputs": [
    {
     "name": "stdout",
     "output_type": "stream",
     "text": [
      "98019899.49751785\n"
     ]
    }
   ],
   "source": [
    "import math\n",
    "\n",
    "def integrale_precise(f, a, b, n0, precision):\n",
    "    val = integrale(f, a, b, n0)\n",
    "    val0 = None\n",
    "    while val0 is None or abs(val - val0) / val0 > precision:\n",
    "        val0 = val\n",
    "        n0 += 1\n",
    "        val = integrale(f, a, b, n0)\n",
    "    return val, n0\n",
    "\n",
    "integrale_precise(lambda x: x, 0.1, 1, 10, 1e-4)\n",
    "\n",
    "\n",
    "g = lambda x : math.cos(1/x)\n",
    "print(integrale(g,0.1,10,0.001))"
   ]
  },
  {
   "cell_type": "code",
   "execution_count": null,
   "metadata": {},
   "outputs": [],
   "source": []
  },
  {
   "cell_type": "code",
   "execution_count": null,
   "metadata": {},
   "outputs": [],
   "source": []
  }
 ],
 "metadata": {
  "kernelspec": {
   "display_name": "Python 3",
   "language": "python",
   "name": "python3"
  },
  "language_info": {
   "codemirror_mode": {
    "name": "ipython",
    "version": 3
   },
   "file_extension": ".py",
   "mimetype": "text/x-python",
   "name": "python",
   "nbconvert_exporter": "python",
   "pygments_lexer": "ipython3",
   "version": "3.8.3"
  }
 },
 "nbformat": 4,
 "nbformat_minor": 4
}
