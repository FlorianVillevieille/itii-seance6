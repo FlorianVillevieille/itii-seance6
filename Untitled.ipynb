{
 "cells": [
  {
   "cell_type": "code",
   "execution_count": 20,
   "metadata": {},
   "outputs": [
    {
     "name": "stdout",
     "output_type": "stream",
     "text": [
      "7.501500076001311e+22\n",
      "0.0\n"
     ]
    },
    {
     "data": {
      "text/latex": [
       "$\\displaystyle -2 + \\pi$"
      ],
      "text/plain": [
       "-2 + pi"
      ]
     },
     "execution_count": 20,
     "metadata": {},
     "output_type": "execute_result"
    }
   ],
   "source": [
    "#Exercice 1 :\n",
    "\n",
    "def integrale(f, a, b, n):\n",
    "    \n",
    "    integrale = 0\n",
    "    k=a;\n",
    "    while(k < b):\n",
    "        largeur = (b-a)/n\n",
    "        hauteur = f(a + k*(b-a)/n)\n",
    "        aire = largeur * hauteur\n",
    "        integrale += aire\n",
    "        k+=n\n",
    " \n",
    "    return integrale\n",
    "\n",
    "f = lambda x : 3*x**3 + 2*x - 1\n",
    "print(integrale(f,0,10,0.001))\n",
    "\n",
    "\n",
    "#------------------------------------------------------\n",
    "\n",
    "def calculate_dx (a,b,n):\n",
    "    return (b-a)/float(n)\n",
    "\n",
    "def f(x):\n",
    "    return 3*x**2\n",
    "\n",
    "\n",
    "def rect_rule(f,a,b,n):\n",
    "    total=0\n",
    "    dx=calculate_dx(a,b,n)\n",
    "    for i in range(1,n):\n",
    "        fi=f(a+i*(dx))\n",
    "        total+=fi\n",
    "    integral=total*dx\n",
    "    return(integral)\n",
    "\n",
    "print(integrale(f,0,1,5)) #plus de précisions si on incrémente 5 --> 5000000000000000\n",
    "\n",
    "\n",
    "#-------------------------------------------------------------------\n",
    "\n",
    "from sympy import *\n",
    "t= Symbol('t')\n",
    "integrate(t**2*sin(t), (t,0,pi/2))\n",
    "\n"
   ]
  },
  {
   "cell_type": "code",
   "execution_count": null,
   "metadata": {},
   "outputs": [],
   "source": [
    "import math\n",
    "\n",
    "def integrale_precise(f, a, b, n0, precision):\n",
    "    val = integrale(f, a, b, n0)\n",
    "    val0 = None\n",
    "    while val0 is None or abs(val - val0) / val0 > precision:\n",
    "        val0 = val\n",
    "        n0 += 1\n",
    "        val = integrale(f, a, b, n0)\n",
    "    return val, n0\n",
    "\n",
    "integrale_precise(lambda x: x, 0.1, 1, 10, 1e-4)\n",
    "\n",
    "# ------------------------------------------------------\n",
    "\n",
    "import numpy as np\n",
    "\n",
    "def f(x):\n",
    "    return x**2+x\n",
    "\n",
    "n=10\n",
    "a=0\n",
    "b=1\n",
    "x=Symbol('x')\n",
    "integral_real=integrate(x**2+x, (x,a,b))\n",
    "higherror=True\n",
    "step=100\n",
    "\n",
    "                        \n",
    "while (higherror):\n",
    "    integral_num=integrale(f,0,1,n)\n",
    "    if np.abs(integral_num-integral_real)<10**-4:\n",
    "        higherror=False\n",
    "    n=n+step\n",
    "\n",
    "\n",
    "\n",
    "print(n)   "
   ]
  },
  {
   "cell_type": "code",
   "execution_count": null,
   "metadata": {},
   "outputs": [],
   "source": []
  },
  {
   "cell_type": "code",
   "execution_count": null,
   "metadata": {},
   "outputs": [],
   "source": []
  }
 ],
 "metadata": {
  "kernelspec": {
   "display_name": "Python 3",
   "language": "python",
   "name": "python3"
  },
  "language_info": {
   "codemirror_mode": {
    "name": "ipython",
    "version": 3
   },
   "file_extension": ".py",
   "mimetype": "text/x-python",
   "name": "python",
   "nbconvert_exporter": "python",
   "pygments_lexer": "ipython3",
   "version": "3.8.3"
  }
 },
 "nbformat": 4,
 "nbformat_minor": 4
}
